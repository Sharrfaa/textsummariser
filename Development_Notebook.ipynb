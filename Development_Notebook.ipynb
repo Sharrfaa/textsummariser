{
  "nbformat": 4,
  "nbformat_minor": 0,
  "metadata": {
    "colab": {
      "provenance": [],
      "include_colab_link": true
    },
    "kernelspec": {
      "name": "python3",
      "display_name": "Python 3"
    },
    "language_info": {
      "name": "python"
    }
  },
  "cells": [
    {
      "cell_type": "markdown",
      "metadata": {
        "id": "view-in-github",
        "colab_type": "text"
      },
      "source": [
        "<a href=\"https://colab.research.google.com/github/Sharrfaa/textsummariser/blob/main/Development_Notebook.ipynb\" target=\"_parent\"><img src=\"https://colab.research.google.com/assets/colab-badge.svg\" alt=\"Open In Colab\"/></a>"
      ]
    },
    {
      "cell_type": "markdown",
      "source": [
        "# Convert code to pseudocode"
      ],
      "metadata": {
        "id": "PkF3wy6eOioQ"
      }
    },
    {
      "cell_type": "markdown",
      "source": [
        "Running wget command for downloading enron email data"
      ],
      "metadata": {
        "id": "GXjzHm4DAO4F"
      }
    },
    {
      "cell_type": "code",
      "source": [
        "!wget -O enron.db https://curtin-my.sharepoint.com/:u:/g/personal/211934g_curtin_edu_au/EaYagsqa2r1Bi5wtHbswGFwBH2kd2uTnz6rlka7GI36GUQ?download=1"
      ],
      "metadata": {
        "id": "Ou0CdrjmXDRQ"
      },
      "execution_count": null,
      "outputs": []
    },
    {
      "cell_type": "markdown",
      "source": [
        "Importing libraries: sqlite3, pandas, matplotlib.pyplot and seaborn"
      ],
      "metadata": {
        "id": "Zbq9I3qxAbJg"
      }
    },
    {
      "cell_type": "code",
      "execution_count": null,
      "metadata": {
        "id": "HEUNRMHpSdn6"
      },
      "outputs": [],
      "source": [
        "import sqlite3\n",
        "import pandas as pd\n",
        "import matplotlib.pyplot as plt\n",
        "import seaborn as sns"
      ]
    },
    {
      "cell_type": "markdown",
      "source": [
        "Establishing connection with database: enron"
      ],
      "metadata": {
        "id": "dsjUCsEFAjAH"
      }
    },
    {
      "cell_type": "code",
      "source": [
        "conn = sqlite3.connect(\"enron.db\")"
      ],
      "metadata": {
        "id": "EXz3PThfSpxX"
      },
      "execution_count": null,
      "outputs": []
    },
    {
      "cell_type": "markdown",
      "source": [
        "Creating cursor object"
      ],
      "metadata": {
        "id": "5gKaGYCEAooN"
      }
    },
    {
      "cell_type": "code",
      "source": [
        "cur = conn.cursor()"
      ],
      "metadata": {
        "id": "MbcchaATStEK"
      },
      "execution_count": null,
      "outputs": []
    },
    {
      "cell_type": "markdown",
      "source": [
        "Checking schema of database"
      ],
      "metadata": {
        "id": "oDOkaGRbAyAU"
      }
    },
    {
      "cell_type": "code",
      "source": [
        "SQL = \"\"\"\n",
        "SELECT name\n",
        "FROM sqlite_master\n",
        "WHERE type = 'table';\n",
        "\"\"\""
      ],
      "metadata": {
        "id": "rS-cfd4-T2zn"
      },
      "execution_count": null,
      "outputs": []
    },
    {
      "cell_type": "markdown",
      "source": [
        "Executing the SQL query using the cursor object"
      ],
      "metadata": {
        "id": "LrsHI3BcBmUS"
      }
    },
    {
      "cell_type": "code",
      "source": [
        "cur.execute(SQL)"
      ],
      "metadata": {
        "id": "YmCGdI3UBhh_"
      },
      "execution_count": null,
      "outputs": []
    },
    {
      "cell_type": "markdown",
      "source": [
        "Fetching the results returned by the query"
      ],
      "metadata": {
        "id": "jz9-5VtzB1WM"
      }
    },
    {
      "cell_type": "code",
      "source": [
        "cur.fetchall()"
      ],
      "metadata": {
        "id": "hfwvX4scByfJ"
      },
      "execution_count": null,
      "outputs": []
    },
    {
      "cell_type": "markdown",
      "source": [
        "Executing the SQL query and storing the result in a dataframe"
      ],
      "metadata": {
        "id": "8bPzTcZvDXXQ"
      }
    },
    {
      "cell_type": "code",
      "source": [
        "table_dataframe = pd.read_sql_query(SQL,conn)\n",
        "table_dataframe"
      ],
      "metadata": {
        "id": "1d_eFLWH1Fns"
      },
      "execution_count": null,
      "outputs": []
    },
    {
      "cell_type": "markdown",
      "source": [
        "Checking schema of table - employeelist"
      ],
      "metadata": {
        "id": "c984sdSwDrW5"
      }
    },
    {
      "cell_type": "code",
      "source": [
        "SQL =\"\"\"\n",
        "PRAGMA table_info('employeelist');\n",
        "\"\"\""
      ],
      "metadata": {
        "id": "5ZnV9jUrSxhf"
      },
      "execution_count": null,
      "outputs": []
    },
    {
      "cell_type": "markdown",
      "source": [
        "Executing the SQL query using the cursor object and\n",
        "\n",
        "Fetching the results returned by the query"
      ],
      "metadata": {
        "id": "YCHry-xJD-xC"
      }
    },
    {
      "cell_type": "code",
      "source": [
        "cur.execute(SQL)\n",
        "cur.fetchall()"
      ],
      "metadata": {
        "id": "glb60KScD9Rn"
      },
      "execution_count": null,
      "outputs": []
    },
    {
      "cell_type": "markdown",
      "source": [
        "Executing the SQL query and storing the result in a dataframe"
      ],
      "metadata": {
        "id": "tm_YAv-3EVMY"
      }
    },
    {
      "cell_type": "code",
      "source": [
        "table_dataframe = pd.read_sql_query(SQL,conn)\n",
        "table_dataframe"
      ],
      "metadata": {
        "id": "pAAsFtip6V-T"
      },
      "execution_count": null,
      "outputs": []
    },
    {
      "cell_type": "markdown",
      "source": [
        "Checking schema of table - message"
      ],
      "metadata": {
        "id": "YfvPGVt9EXvF"
      }
    },
    {
      "cell_type": "code",
      "source": [
        "SQL =\"\"\"\n",
        "PRAGMA table_info('message');\n",
        "\"\"\""
      ],
      "metadata": {
        "id": "jngJA2sfTo0a"
      },
      "execution_count": null,
      "outputs": []
    },
    {
      "cell_type": "markdown",
      "source": [
        "Executing the SQL query using the cursor object and\n",
        "\n",
        "Fetching the results returned by the query"
      ],
      "metadata": {
        "id": "ocaSKlLuEki5"
      }
    },
    {
      "cell_type": "code",
      "source": [
        "cur.execute(SQL)\n",
        "cur.fetchall()"
      ],
      "metadata": {
        "id": "FzO-1k3bEgKA"
      },
      "execution_count": null,
      "outputs": []
    },
    {
      "cell_type": "markdown",
      "source": [
        "Checking schema of table - recipientinfo"
      ],
      "metadata": {
        "id": "pzoot2yyEtyY"
      }
    },
    {
      "cell_type": "code",
      "source": [
        "SQL =\"\"\"\n",
        "PRAGMA table_info('recipientinfo');\n",
        "\"\"\""
      ],
      "metadata": {
        "id": "I2-ETV4qUIeS"
      },
      "execution_count": null,
      "outputs": []
    },
    {
      "cell_type": "markdown",
      "source": [
        "Executing the SQL query using the cursor object and\n",
        "\n",
        "Fetching the results returned by the query"
      ],
      "metadata": {
        "id": "1bFBs-P9E0pP"
      }
    },
    {
      "cell_type": "code",
      "source": [
        "cur.execute(SQL)\n",
        "cur.fetchall()"
      ],
      "metadata": {
        "id": "thycRzJaEx1L"
      },
      "execution_count": null,
      "outputs": []
    },
    {
      "cell_type": "markdown",
      "source": [
        "Checking schema of table - referenceinfo"
      ],
      "metadata": {
        "id": "ihrsIbT3E-vs"
      }
    },
    {
      "cell_type": "code",
      "source": [
        "SQL =\"\"\"\n",
        "PRAGMA table_info('referenceinfo');\n",
        "\"\"\""
      ],
      "metadata": {
        "id": "X7wK3BDIUW_O"
      },
      "execution_count": null,
      "outputs": []
    },
    {
      "cell_type": "markdown",
      "source": [
        "Executing the SQL query using the cursor object and\n",
        "\n",
        "Fetching the results returned by the query"
      ],
      "metadata": {
        "id": "S6O9BZdTFJmF"
      }
    },
    {
      "cell_type": "code",
      "source": [
        "cur.execute(SQL)\n",
        "cur.fetchall()"
      ],
      "metadata": {
        "id": "2Mp_ulOQFErr"
      },
      "execution_count": null,
      "outputs": []
    },
    {
      "cell_type": "markdown",
      "source": [
        "Checking the date format by writing an sql query to fetch one record from message table"
      ],
      "metadata": {
        "id": "OUhGkgK7FPXT"
      }
    },
    {
      "cell_type": "code",
      "source": [
        "SQL = \"\"\"\n",
        "SELECT date FROM message\n",
        "\"\"\""
      ],
      "metadata": {
        "id": "z-gEHFFeV1dY"
      },
      "execution_count": null,
      "outputs": []
    },
    {
      "cell_type": "markdown",
      "source": [
        "Executing the SQL query and storing the result in a dataframe"
      ],
      "metadata": {
        "id": "dr7rnGbGFgmn"
      }
    },
    {
      "cell_type": "code",
      "source": [
        "message_dataframe = pd.read_sql_query(SQL, conn)\n",
        "message_dataframe"
      ],
      "metadata": {
        "id": "1GP2A2vKFfog"
      },
      "execution_count": null,
      "outputs": []
    },
    {
      "cell_type": "markdown",
      "source": [
        "Counting number of email per day using sql query, strftime and COUNT()"
      ],
      "metadata": {
        "id": "j4twUKL-FnM0"
      }
    },
    {
      "cell_type": "code",
      "source": [
        "SQL = \"\"\"\n",
        "SELECT strftime('%Y-%m-%d', date)\n",
        "AS date,\n",
        "COUNT(*) AS count FROM message\n",
        "GROUP BY date\n",
        "\"\"\""
      ],
      "metadata": {
        "id": "6bBgh1XmPh4j"
      },
      "execution_count": null,
      "outputs": []
    },
    {
      "cell_type": "markdown",
      "source": [
        "Executing the SQL query using the cursor object"
      ],
      "metadata": {
        "id": "jQ0PkhxsGI4i"
      }
    },
    {
      "cell_type": "code",
      "source": [
        "cur.execute(SQL)"
      ],
      "metadata": {
        "id": "fRj2c5DSGGW-"
      },
      "execution_count": null,
      "outputs": []
    },
    {
      "cell_type": "markdown",
      "source": [
        "Converting data to dataframe"
      ],
      "metadata": {
        "id": "3pMr89PJGTuW"
      }
    },
    {
      "cell_type": "code",
      "source": [
        "messageperday_dataframe = pd.read_sql_query(SQL, conn)"
      ],
      "metadata": {
        "id": "gy2yuKHoGSvq"
      },
      "execution_count": null,
      "outputs": []
    },
    {
      "cell_type": "markdown",
      "source": [
        "Displaying the dataframe"
      ],
      "metadata": {
        "id": "2g85mta6GeZl"
      }
    },
    {
      "cell_type": "code",
      "source": [
        "messageperday_dataframe"
      ],
      "metadata": {
        "id": "n5d4LnoDGcCk"
      },
      "execution_count": null,
      "outputs": []
    },
    {
      "cell_type": "markdown",
      "source": [
        "Plotting line graph using subplots(), lineplot(), plt.title() and plt.show()\n",
        "\n",
        "Creating a figure and axes for the plot\n",
        "\n",
        "Plotting the line using seaborn\n",
        "\n",
        "Setting a title for the graph\n",
        "\n",
        "Displaying the graph"
      ],
      "metadata": {
        "id": "8lMaq26PGkmv"
      }
    },
    {
      "cell_type": "code",
      "source": [
        "graph1 = plt.subplots(figsize=(40,10))\n",
        "sns.lineplot(x=\"date\", y=\"count\" ,data= messageperday_dataframe)\n",
        "plt.title('Message per day')\n",
        "plt.show()"
      ],
      "metadata": {
        "id": "AAaS3PLxVFSw"
      },
      "execution_count": null,
      "outputs": []
    },
    {
      "cell_type": "markdown",
      "source": [
        "Counting the number of email per week using sql query, strftime and COUNT()"
      ],
      "metadata": {
        "id": "Y-hWOt-YH4wA"
      }
    },
    {
      "cell_type": "code",
      "source": [
        "SQL = \"\"\"\n",
        "SELECT strftime('%Y-%w',Date)\n",
        "AS Date,\n",
        "COUNT(*) AS Email FROM message\n",
        "GROUP BY Date\n",
        "\"\"\""
      ],
      "metadata": {
        "id": "3bpuHgxbdVTN"
      },
      "execution_count": null,
      "outputs": []
    },
    {
      "cell_type": "markdown",
      "source": [
        "Executing the SQL query using the cursor object"
      ],
      "metadata": {
        "id": "maCnobTIJZjH"
      }
    },
    {
      "cell_type": "code",
      "source": [
        "cur.execute(SQL)"
      ],
      "metadata": {
        "id": "DQkTF46fIUhN"
      },
      "execution_count": null,
      "outputs": []
    },
    {
      "cell_type": "markdown",
      "source": [
        "Executing the SQL query and storing the result in a dataframe"
      ],
      "metadata": {
        "id": "sA0O4yibJjUB"
      }
    },
    {
      "cell_type": "code",
      "source": [
        "messageperweek_dataframe = pd.read_sql_query(SQL, conn)\n",
        "messageperweek_dataframe"
      ],
      "metadata": {
        "id": "wkGcntwfJiMx"
      },
      "execution_count": null,
      "outputs": []
    },
    {
      "cell_type": "markdown",
      "source": [
        "Plotting line graph using subplots(), lineplot(), plt.title() and plt.show()\n",
        "\n",
        "Creating a figure and axes for the plot\n",
        "\n",
        "Plotting the line using seaborn\n",
        "\n",
        "Setting a title for the graph\n",
        "\n",
        "Displaying the graph"
      ],
      "metadata": {
        "id": "BmvM92WhJ3yB"
      }
    },
    {
      "cell_type": "code",
      "source": [
        "graph2 = plt.subplots(figsize=(50,10))\n",
        "sns.lineplot(x=\"Date\", y=\"Email\" ,data= messageperweek_dataframe)\n",
        "plt.title('Message per week')\n",
        "plt.show()"
      ],
      "metadata": {
        "id": "NlZFz-FsfCuV"
      },
      "execution_count": null,
      "outputs": []
    },
    {
      "cell_type": "markdown",
      "source": [
        "Counting the number of email per month using sql query, strftime and COUNT()"
      ],
      "metadata": {
        "id": "RQrSaBZyKBbY"
      }
    },
    {
      "cell_type": "code",
      "source": [
        "SQL = \"\"\"\n",
        "SELECT strftime('%Y-%m',Date)\n",
        "AS Date,\n",
        "COUNT(*) AS Email FROM message\n",
        "GROUP BY Date\n",
        "\"\"\""
      ],
      "metadata": {
        "id": "aNTHpbl6aMh7"
      },
      "execution_count": null,
      "outputs": []
    },
    {
      "cell_type": "markdown",
      "source": [
        "Executing the SQL query using the cursor object"
      ],
      "metadata": {
        "id": "UIJeF8qZKKjc"
      }
    },
    {
      "cell_type": "code",
      "source": [
        "cur.execute(SQL)"
      ],
      "metadata": {
        "id": "VbPs1KTVKLXg"
      },
      "execution_count": null,
      "outputs": []
    },
    {
      "cell_type": "markdown",
      "source": [
        "Executing the SQL query and storing the result in a dataframe"
      ],
      "metadata": {
        "id": "uh3-3AZKKSvV"
      }
    },
    {
      "cell_type": "code",
      "source": [
        "messagepermonth_dataframe = pd.read_sql_query(SQL, conn)\n",
        "messagepermonth_dataframe"
      ],
      "metadata": {
        "id": "kBKiXqyxKOEC"
      },
      "execution_count": null,
      "outputs": []
    },
    {
      "cell_type": "markdown",
      "source": [
        "Plotting line graph using subplots(), lineplot(), plt.title() and plt.show()\n",
        "\n",
        "Creating a figure and axes for the plot\n",
        "\n",
        "Plotting the line using seaborn\n",
        "\n",
        "Setting a title for the graph\n",
        "\n",
        "Displaying the graph"
      ],
      "metadata": {
        "id": "KFj_nXyYKiFa"
      }
    },
    {
      "cell_type": "code",
      "source": [
        "graph3 = plt.subplots(figsize=(60,10))\n",
        "sns.lineplot(x=\"Date\", y=\"Email\" ,data= messagepermonth_dataframe)\n",
        "plt.title('Message per month')\n",
        "plt.show()"
      ],
      "metadata": {
        "id": "NhZQVFX1cbPl"
      },
      "execution_count": null,
      "outputs": []
    },
    {
      "cell_type": "markdown",
      "source": [
        "Writing sql query to count top sender using count()"
      ],
      "metadata": {
        "id": "tB853iFKK0hH"
      }
    },
    {
      "cell_type": "code",
      "source": [
        "SQL = \"\"\"\n",
        "SELECT sender, COUNT(*) AS EmailSenderCount\n",
        "FROM(\n",
        "  SELECT sender\n",
        "  FROM Message m\n",
        "  )\n",
        "GROUP BY sender\n",
        "ORDER BY EmailSenderCount DESC\n",
        "LIMIT 12\n",
        ";\n",
        "\"\"\""
      ],
      "metadata": {
        "id": "7QzIAp4SgCuH"
      },
      "execution_count": null,
      "outputs": []
    },
    {
      "cell_type": "markdown",
      "source": [
        "Executing the SQL query and storing the result in a dataframe"
      ],
      "metadata": {
        "id": "Qw2-AGlXK_YV"
      }
    },
    {
      "cell_type": "code",
      "source": [
        "sender_dataframe = pd.read_sql_query(SQL,conn)\n",
        "sender_dataframe"
      ],
      "metadata": {
        "id": "KQGTLzKbLB_n"
      },
      "execution_count": null,
      "outputs": []
    },
    {
      "cell_type": "markdown",
      "source": [
        "Plot bar chart using barplot(), plt.title() and plt.show()\n",
        "\n",
        "Setting the data for the bar plot\n",
        "\n",
        "Creating a bar plot using seaborn\n",
        "\n",
        "Setting the title of the bar chart\n",
        "\n",
        "Displaying the plot"
      ],
      "metadata": {
        "id": "GxHGeeWnLNCO"
      }
    },
    {
      "cell_type": "code",
      "source": [
        "data = sender_dataframe\n",
        "sns.barplot(data=data, y='sender', x='EmailSenderCount')\n",
        "plt.title('Top Sender')\n",
        "plt.show()"
      ],
      "metadata": {
        "id": "UBaV79pDk2C0"
      },
      "execution_count": null,
      "outputs": []
    },
    {
      "cell_type": "markdown",
      "source": [
        "Writing sql query to count top recipient using count()"
      ],
      "metadata": {
        "id": "0kEpD2FBL5Zv"
      }
    },
    {
      "cell_type": "code",
      "source": [
        "SQL = \"\"\"\n",
        "SELECT rvalue as recipient_email, COUNT(*) AS recipient_email_count FROM Recipientinfo\n",
        "GROUP BY recipient_email\n",
        "ORDER BY recipient_email_count DESC\n",
        "LIMIT 10;\n",
        "\"\"\""
      ],
      "metadata": {
        "id": "HLySYM2TlpVE"
      },
      "execution_count": null,
      "outputs": []
    },
    {
      "cell_type": "markdown",
      "source": [
        "Executing the SQL query and storing the result in a dataframe"
      ],
      "metadata": {
        "id": "Og5-Io4_MB6Q"
      }
    },
    {
      "cell_type": "code",
      "source": [
        "recipient_dataframe = pd.read_sql(SQL,conn)\n",
        "recipient_dataframe"
      ],
      "metadata": {
        "id": "a2wb1PkEMA9v"
      },
      "execution_count": null,
      "outputs": []
    },
    {
      "cell_type": "markdown",
      "source": [
        "Plot bar chart using barplot(), plt.title() and plt.show()\n",
        "\n",
        "Setting the data for the bar plot\n",
        "\n",
        "Creating a bar plot using seaborn\n",
        "\n",
        "Setting the title of the bar chart\n",
        "\n",
        "Displaying the plot"
      ],
      "metadata": {
        "id": "MrpfIiJ_MIci"
      }
    },
    {
      "cell_type": "code",
      "source": [
        "data = recipient_dataframe\n",
        "sns.barplot(data=recipient_dataframe, y='recipient_email', x='recipient_email_count')\n",
        "plt.title('Top Recipient')\n",
        "plt.show()"
      ],
      "metadata": {
        "id": "QhhvNBTccBzS"
      },
      "execution_count": null,
      "outputs": []
    },
    {
      "cell_type": "markdown",
      "source": [
        "Writing sql query to categorize by recipient type using count()"
      ],
      "metadata": {
        "id": "5MMMIGhVMSX0"
      }
    },
    {
      "cell_type": "code",
      "source": [
        "SQL = \"\"\"\n",
        "SELECT rtype, COUNT (*) AS RecipientType FROM Recipientinfo\n",
        "GROUP BY rtype\n",
        "\"\"\""
      ],
      "metadata": {
        "id": "Nw5-krJGcpMY"
      },
      "execution_count": null,
      "outputs": []
    },
    {
      "cell_type": "markdown",
      "source": [
        "Executing the SQL query using the cursor object"
      ],
      "metadata": {
        "id": "M9C38AjUMoxl"
      }
    },
    {
      "cell_type": "code",
      "source": [
        "cur.execute(SQL)"
      ],
      "metadata": {
        "id": "fFAodRSTMha2"
      },
      "execution_count": null,
      "outputs": []
    },
    {
      "cell_type": "markdown",
      "source": [
        "Executing the SQL query and storing the result in a dataframe"
      ],
      "metadata": {
        "id": "mAl3TLvJMw8X"
      }
    },
    {
      "cell_type": "code",
      "source": [
        "rtype_dataframe = pd.read_sql(SQL,conn)\n",
        "rtype_dataframe"
      ],
      "metadata": {
        "id": "LptIMxrHMs_Z"
      },
      "execution_count": null,
      "outputs": []
    },
    {
      "cell_type": "markdown",
      "source": [
        "Calculating the proportion of each recipient type"
      ],
      "metadata": {
        "id": "ULAtff41M0jU"
      }
    },
    {
      "cell_type": "code",
      "source": [
        "prop_rtype = rtype_dataframe[\"RecipientType\"]/rtype_dataframe[\"RecipientType\"].sum()"
      ],
      "metadata": {
        "id": "TJhlSijvtsGC"
      },
      "execution_count": null,
      "outputs": []
    },
    {
      "cell_type": "markdown",
      "source": [
        "Plotting pie chart using subplots(), pie(), title() and show()\n",
        "\n",
        "Creating a figure and axes for the pie chart\n",
        "\n",
        "Creating the pie chart using the proportion of recipient types\n",
        "\n",
        "Setting the title of the pie chart\n",
        "\n",
        "Displaying the pie chart\n"
      ],
      "metadata": {
        "id": "06esVkyANCGT"
      }
    },
    {
      "cell_type": "code",
      "source": [
        "pie1 = plt.subplots(figsize=(7,7))\n",
        "plt.pie(prop_rtype, labels = rtype_dataframe['rtype'], autopct='%.0f%%', startangle=62)\n",
        "plt.title('Recipient Types')\n",
        "plt.show()"
      ],
      "metadata": {
        "id": "_JtLSxm1uNDy"
      },
      "execution_count": null,
      "outputs": []
    },
    {
      "cell_type": "markdown",
      "source": [
        "Plot bar chart using subplots(), barplot(), plt.title() and plt.show()\n",
        "\n",
        "Creating a bar plot using seaborn\n",
        "\n",
        "Setting the title of the bar chart\n",
        "\n",
        "Displaying the plot"
      ],
      "metadata": {
        "id": "8MhjdkNxNxnA"
      }
    },
    {
      "cell_type": "code",
      "source": [
        "graph3 = plt.subplots(figsize=(6,4))\n",
        "sns.barplot(x='rtype', y='RecipientType', data=rtype_dataframe)\n",
        "plt.title('Recipient type')\n",
        "plt.show()"
      ],
      "metadata": {
        "id": "7E1avJC0vk9h"
      },
      "execution_count": null,
      "outputs": []
    },
    {
      "cell_type": "markdown",
      "source": [
        "Commit the changes to the database"
      ],
      "metadata": {
        "id": "xGN7AjQPOOuZ"
      }
    },
    {
      "cell_type": "code",
      "source": [
        "conn.commit()"
      ],
      "metadata": {
        "id": "l8SXmzh1cvyI"
      },
      "execution_count": null,
      "outputs": []
    },
    {
      "cell_type": "markdown",
      "source": [
        "Closing the database connection"
      ],
      "metadata": {
        "id": "ysJKhb4ROVvl"
      }
    },
    {
      "cell_type": "code",
      "source": [
        "conn.close()"
      ],
      "metadata": {
        "id": "AMhI28D1OS2p"
      },
      "execution_count": null,
      "outputs": []
    },
    {
      "cell_type": "markdown",
      "source": [
        "# Testing"
      ],
      "metadata": {
        "id": "UTWhKYWWO0R2"
      }
    },
    {
      "cell_type": "markdown",
      "source": [
        "While coding, I experienced many types of errors. The ones that were obvious and easy to debug were the NameError, AttributeError and syntax errors. The OperationalError were a bit more difficult to fix as I was not used with working on SQL queries. I made a few researches on google and found some of my errors. TypeErrors were also quite simple to debug as google Colab indicates where the error is situated. The graphs were difficult for me at first as I was not used with using the matplotlib.pyplot library. Hence, I encountered many errors before being able to display my line graph."
      ],
      "metadata": {
        "id": "hinaLGGdO-9t"
      }
    },
    {
      "cell_type": "markdown",
      "source": [
        "# Industry Standards"
      ],
      "metadata": {
        "id": "Y8a9ZYAnPHLz"
      }
    },
    {
      "cell_type": "markdown",
      "source": [
        "# Used"
      ],
      "metadata": {
        "id": "EldzIET2akMz"
      }
    },
    {
      "cell_type": "markdown",
      "source": [
        "The main industry standard which I used in my codes are meaningful variables. For example, 'table_dataframe' to represent the table's dataframe, 'cur' short for cursor, 'graph1' for the first graph I displayed, 'EmailSenderCount' for the number of emails per sender and 'recipient_email' to represent the email addresses of the recipients. \n",
        "\n",
        "I also tried not to make my codes lengthy and to write as few lines as possible.\n",
        "I made sure to capitalize the right words for the SQL queries. I used the meaningful names for the columns' titles of the tables. I avoided to make the lines too long as it might be hard to understand. \n",
        "And lastly, I used comments for documentation. \n",
        "I did not forget to save my work constantly on github version control."
      ],
      "metadata": {
        "id": "jv-Ao2qtPNuW"
      }
    },
    {
      "cell_type": "markdown",
      "source": [
        "# Did not use"
      ],
      "metadata": {
        "id": "IzEO-9s2XRxT"
      }
    },
    {
      "cell_type": "markdown",
      "source": [
        "Some industry standards which I did not make use of are security practices as I still haven't learned about how to secure my codes to prevent from malicious attacks. \n",
        "\n",
        "I also could not find any developer or programmer to review my codes."
      ],
      "metadata": {
        "id": "VREW-4r0anbd"
      }
    }
  ]
}