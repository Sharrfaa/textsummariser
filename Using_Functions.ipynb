{
  "nbformat": 4,
  "nbformat_minor": 0,
  "metadata": {
    "colab": {
      "provenance": [],
      "authorship_tag": "ABX9TyP+WhS2wbwsNeYHbqMArGCq",
      "include_colab_link": true
    },
    "kernelspec": {
      "name": "python3",
      "display_name": "Python 3"
    },
    "language_info": {
      "name": "python"
    }
  },
  "cells": [
    {
      "cell_type": "markdown",
      "metadata": {
        "id": "view-in-github",
        "colab_type": "text"
      },
      "source": [
        "<a href=\"https://colab.research.google.com/github/Sharrfaa/textsummariser/blob/main/Using_Functions.ipynb\" target=\"_parent\"><img src=\"https://colab.research.google.com/assets/colab-badge.svg\" alt=\"Open In Colab\"/></a>"
      ]
    },
    {
      "cell_type": "markdown",
      "source": [
        "## **8. Using Functions**"
      ],
      "metadata": {
        "id": "UQdIGKecJcum"
      }
    },
    {
      "cell_type": "markdown",
      "source": [
        "A function is a block of code that performs a specific task. \n",
        "\n",
        "There are two types of functions:\n",
        "\n",
        "1. Standard-library function: \n",
        "\n",
        "These are built-in functions in Python that are readily available to use. For example the \"print()\", \"type()\" and \"input()\" functions as shown below:\n"
      ],
      "metadata": {
        "id": "NvHgb-MmOJ9f"
      }
    },
    {
      "cell_type": "code",
      "source": [
        "# input function - gets user input\n",
        "Text = input(\"Enter a text: \")\n",
        "\n",
        "# print function - prints the output\n",
        "print(Text)\n",
        "\n",
        "# type function - shows the datatype\n",
        "type(Text)"
      ],
      "metadata": {
        "colab": {
          "base_uri": "https://localhost:8080/"
        },
        "id": "Ca-6hGCKPsqV",
        "outputId": "f1bfecb0-43a1-40ac-9356-8d4a4746463b"
      },
      "execution_count": 14,
      "outputs": [
        {
          "output_type": "stream",
          "name": "stdout",
          "text": [
            "Enter a text: Hello World\n",
            "Hello World\n"
          ]
        },
        {
          "output_type": "execute_result",
          "data": {
            "text/plain": [
              "str"
            ]
          },
          "metadata": {},
          "execution_count": 14
        }
      ]
    },
    {
      "cell_type": "markdown",
      "source": [
        "Another example is the \"int()\" function. It can be used to convert a string to an integer in order to perform calculations:"
      ],
      "metadata": {
        "id": "Xt7LB9BSRsTA"
      }
    },
    {
      "cell_type": "code",
      "source": [
        "# example without the int() function (Incorrect)\n",
        "num1 = input('Enter a number: ')\n",
        "num2 = input(\"Enter a second number: \")\n",
        "\n",
        "sum = num1 + num2\n",
        "print(\"Result:\" ,sum)\n",
        "type(sum)"
      ],
      "metadata": {
        "colab": {
          "base_uri": "https://localhost:8080/"
        },
        "id": "prBs4YlMR9vO",
        "outputId": "62181afc-f1af-423d-b6d8-a307339ddf5d"
      },
      "execution_count": 11,
      "outputs": [
        {
          "output_type": "stream",
          "name": "stdout",
          "text": [
            "Enter a number: 23\n",
            "Enter a second number: 25\n",
            "Result: 2325\n"
          ]
        },
        {
          "output_type": "execute_result",
          "data": {
            "text/plain": [
              "str"
            ]
          },
          "metadata": {},
          "execution_count": 11
        }
      ]
    },
    {
      "cell_type": "code",
      "source": [
        "# example with the int() function (Correct)\n",
        "num1 = int(input('Enter a number: '))\n",
        "num2 = int(input(\"Enter a second number: \"))\n",
        "\n",
        "sum = num1 + num2\n",
        "print(\"Result:\",sum)\n",
        "type(sum)"
      ],
      "metadata": {
        "colab": {
          "base_uri": "https://localhost:8080/"
        },
        "id": "wlMvbedcST9B",
        "outputId": "49da3661-99ce-4591-c41b-4f18acdd11b2"
      },
      "execution_count": 12,
      "outputs": [
        {
          "output_type": "stream",
          "name": "stdout",
          "text": [
            "Enter a number: 23\n",
            "Enter a second number: 25\n",
            "Result: 48\n"
          ]
        },
        {
          "output_type": "execute_result",
          "data": {
            "text/plain": [
              "int"
            ]
          },
          "metadata": {},
          "execution_count": 12
        }
      ]
    },
    {
      "cell_type": "markdown",
      "source": [
        "2. User-defined function: We can create our own functions based on our requirements; for example, to calculate the sum on two numbers.\n",
        "\n",
        "We can create a function and this allows us to call it and use it as many times we want through our code. For example, we can define a function to calculate the sum of two numbers as shown below:"
      ],
      "metadata": {
        "id": "8hJh0BIJPa2D"
      }
    },
    {
      "cell_type": "code",
      "execution_count": 15,
      "metadata": {
        "colab": {
          "base_uri": "https://localhost:8080/"
        },
        "id": "qhfMFlRmJW_v",
        "outputId": "b8940c58-beb3-496b-fe28-7ae43a205409"
      },
      "outputs": [
        {
          "output_type": "stream",
          "name": "stdout",
          "text": [
            "Result:  15\n"
          ]
        }
      ],
      "source": [
        "# Define a function\n",
        "def num_add(num1,num2):\n",
        "  addition = num1 + num2\n",
        "  return addition\n",
        "\n",
        "# using the defined function\n",
        "num_1 = 10\n",
        "num_2 = 5\n",
        "Total = num_add(num_1, num_2)\n",
        "print(\"Result: \",Total)"
      ]
    },
    {
      "cell_type": "markdown",
      "source": [
        "The function \"num_add()\" takes two arguments which are \"num1\" and \"num2\". It calculates the sum of the two numbers assigned to these arguments. And lasting we display the result by assigning the sum to the variable \"Total\" and use the print function to output it."
      ],
      "metadata": {
        "id": "PuNme2PQMDuf"
      }
    }
  ]
}